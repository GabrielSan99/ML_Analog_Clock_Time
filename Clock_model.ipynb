{
  "cells": [
    {
      "cell_type": "markdown",
      "metadata": {
        "id": "view-in-github",
        "colab_type": "text"
      },
      "source": [
        "<a href=\"https://colab.research.google.com/github/GabrielSan99/ML_Analog_clock_time/blob/master/Clock_model.ipynb\" target=\"_parent\"><img src=\"https://colab.research.google.com/assets/colab-badge.svg\" alt=\"Open In Colab\"/></a>"
      ]
    },
    {
      "cell_type": "code",
      "source": [
        "from google.colab import drive\n",
        "drive.mount('/content/drive')"
      ],
      "metadata": {
        "colab": {
          "base_uri": "https://localhost:8080/"
        },
        "id": "wsoPmATXSyz5",
        "outputId": "1549586c-4a46-4bc5-dc2c-67bbd285a825"
      },
      "id": "wsoPmATXSyz5",
      "execution_count": 1,
      "outputs": [
        {
          "output_type": "stream",
          "name": "stdout",
          "text": [
            "Mounted at /content/drive\n"
          ]
        }
      ]
    },
    {
      "cell_type": "markdown",
      "source": [
        "# **Load data and reshapes**\n",
        "\n",
        "\n"
      ],
      "metadata": {
        "id": "tCrG8oQU-UYS"
      },
      "id": "tCrG8oQU-UYS"
    },
    {
      "cell_type": "code",
      "execution_count": null,
      "metadata": {
        "id": "atlantic-insight"
      },
      "outputs": [],
      "source": [
        "import os\n",
        "import numpy as np\n",
        "from numpy import load\n",
        "import pandas as pd\n",
        "import seaborn as sns\n",
        "import argparse\n",
        "import cv2\n",
        "from tqdm import tqdm\n",
        "import pickle\n",
        "\n",
        "import matplotlib.pyplot as plt\n",
        "%matplotlib inline\n",
        "#import plotly.graph_objects as go\n",
        "#import plotly.express as px\n",
        "\n",
        "\n",
        "import tensorflow as tf\n",
        "physical_devices = tf.config.list_physical_devices('GPU')\n",
        "from tensorflow import keras\n",
        "from tensorflow.keras import Sequential\n",
        "from tensorflow.keras.models import Sequential, Model\n",
        "from tensorflow.keras.models import load_model\n",
        "from tensorflow.keras.models import model_from_json\n",
        "from tensorflow.keras.callbacks import EarlyStopping\n",
        "from tensorflow.keras.callbacks import ReduceLROnPlateau\n",
        "from tensorflow.keras.layers import Dense, Flatten, Activation, BatchNormalization\n",
        "from tensorflow.keras.layers import Dropout\n",
        "from tensorflow.keras.layers import Input\n",
        "from tensorflow.keras.layers import Conv2D, MaxPooling2D\n",
        "from tensorflow.keras.optimizers import Adam\n",
        "\n",
        "\n",
        "\n",
        "import sklearn.metrics\n",
        "from sklearn.ensemble import RandomForestClassifier\n",
        "from sklearn.decomposition import PCA\n",
        "from sklearn.datasets import load_iris\n",
        "from sklearn.feature_selection import SelectKBest\n",
        "from sklearn.feature_selection import chi2\n",
        "from sklearn.ensemble import RandomForestClassifier\n"
      ],
      "id": "atlantic-insight"
    },
    {
      "cell_type": "code",
      "execution_count": null,
      "metadata": {
        "id": "angry-lounge"
      },
      "outputs": [],
      "source": [
        "pickle_in = open(\"/content/drive/MyDrive/Colab Notebooks/Analog_clock/dataset.pickle\",\"rb\")\n",
        "dataset = pickle.load(pickle_in)"
      ],
      "id": "angry-lounge"
    },
    {
      "cell_type": "code",
      "execution_count": null,
      "metadata": {
        "id": "requested-carpet"
      },
      "outputs": [],
      "source": [
        "x = []\n",
        "y = []\n",
        "\n",
        "for features,label in dataset:\n",
        "    x.append(features)    \n",
        "    y.append(label)            \n",
        "\n",
        "x = np.array(x)\n",
        "x = x/255\n",
        "y = np.array(y)\n",
        "\n",
        "x_train = x[:int(0.7*len(x))]\n",
        "x_test = x[int(0.7*len(x)):int(0.9*len(x))]\n",
        "x_validation = x[int(0.9*len(x)): len(x)]\n",
        "\n",
        "\n",
        "y1 = (y[:,:1])     #hour\n",
        "y2 = (y[:,1:2])    #minute\n",
        "\n",
        "\n",
        "y1_train = y1[:int(0.7*len(y1))]\n",
        "y1_test = y1[int(0.7*len(y1)):int(0.9*len(y1))]\n",
        "y1_validation = y1[int(0.9*len(y1)): len(y1)]\n",
        "\n",
        "y2_train = y2[:int(0.7*len(y2))]\n",
        "y2_test = y2[int(0.7*len(y2)):int(0.9*len(y2))]\n",
        "y2_validation = y2[int(0.9*len(y2)) : len(y2)]"
      ],
      "id": "requested-carpet"
    },
    {
      "cell_type": "code",
      "execution_count": null,
      "metadata": {
        "id": "hispanic-wings",
        "colab": {
          "base_uri": "https://localhost:8080/"
        },
        "outputId": "7592a83a-4feb-47b5-ae00-6b306289ce14"
      },
      "outputs": [
        {
          "output_type": "stream",
          "name": "stdout",
          "text": [
            "Hour:  4\n",
            "Minute:  2\n",
            "Shape:  (100, 100)\n",
            "[[0.18039216 0.18039216 0.18039216 ... 0.18039216 0.18039216 0.18039216]\n",
            " [0.18039216 0.18039216 0.18039216 ... 0.18039216 0.18039216 0.18039216]\n",
            " [0.18039216 0.18039216 0.18039216 ... 0.18039216 0.18039216 0.18039216]\n",
            " ...\n",
            " [0.18039216 0.18039216 0.18039216 ... 0.18039216 0.18039216 0.18039216]\n",
            " [0.18039216 0.18039216 0.18039216 ... 0.18039216 0.18039216 0.18039216]\n",
            " [0.18039216 0.18039216 0.18039216 ... 0.18039216 0.18039216 0.18039216]]\n"
          ]
        },
        {
          "output_type": "display_data",
          "data": {
            "image/png": "[encoded data removed]",
            "text/plain": [
              "<Figure size 432x288 with 1 Axes>"
            ]
          },
          "metadata": {
            "needs_background": "light"
          }
        }
      ],
      "source": [
        "print(\"Hour: \", int(y1_train[0]))\n",
        "print(\"Minute: \", int(y2_train[0]))    \n",
        "print(\"Shape: \", x_train[0].shape)     #this shape show us that image is a black and white image (100,100), but not binarized because your pixels aren't 0 and 1\n",
        "\n",
        "plt.imshow(x_train[0])\n",
        "\n",
        "print(x_train[0])\n",
        "\n"
      ],
      "id": "hispanic-wings"
    },
    {
      "cell_type": "code",
      "execution_count": null,
      "metadata": {
        "id": "polar-banana",
        "colab": {
          "base_uri": "https://localhost:8080/"
        },
        "outputId": "93fb1a0f-98ff-4a06-b5eb-d8d18b4dd036"
      },
      "outputs": [
        {
          "output_type": "stream",
          "name": "stdout",
          "text": [
            "(35000, 100, 100, 1) (10000, 100, 100, 1) (5000, 100, 100, 1)\n"
          ]
        }
      ],
      "source": [
        "x_train = x_train.reshape(-1, 100, 100, 1)\n",
        "x_test = x_test.reshape(-1, 100, 100, 1)\n",
        "x_validation = x_validation.reshape(-1, 100, 100, 1)\n",
        "\n",
        "print(x_train.shape, x_test.shape, x_validation.shape)"
      ],
      "id": "polar-banana"
    },
    {
      "cell_type": "markdown",
      "source": [
        "# **Neural Network to Hours**"
      ],
      "metadata": {
        "id": "_m46ffVN-Kt3"
      },
      "id": "_m46ffVN-Kt3"
    },
    {
      "cell_type": "code",
      "source": [
        "#Sequential é aconselhado apenas para modelos em simples com uma saída e uma entrada\n",
        "\n",
        "model = tf.keras.models.Sequential([\n",
        "\n",
        "    tf.keras.layers.Conv2D(64, (3,3), activation='relu', input_shape=(100, 100, 1)),\n",
        "    tf.keras.layers.MaxPooling2D(2, 2),\n",
        "    # The second convolution\n",
        "    tf.keras.layers.Conv2D(64, (3,3), activation='relu'),\n",
        "    tf.keras.layers.MaxPooling2D(2,2),\n",
        "    # The third convolution\n",
        "    tf.keras.layers.Conv2D(128, (3,3), activation='relu'),\n",
        "    tf.keras.layers.MaxPooling2D(2,2),\n",
        "    # The fourth convolution\n",
        "    tf.keras.layers.Conv2D(128, (3,3), activation='relu'),\n",
        "    tf.keras.layers.MaxPooling2D(2,2),\n",
        "    # Flatten the results to feed into a DNN\n",
        "    tf.keras.layers.Flatten(),\n",
        "    tf.keras.layers.Dropout(0.5),\n",
        "    # 512 neuron hidden layer\n",
        "    tf.keras.layers.Dense(512, activation='relu'),\n",
        "    tf.keras.layers.Dense(12, activation='softmax')\n",
        "])\n",
        "\n",
        "model.summary()"
      ],
      "metadata": {
        "id": "H5yjFt-WvO5h",
        "colab": {
          "base_uri": "https://localhost:8080/"
        },
        "outputId": "3ffb25de-46c7-4953-fd81-d05a57d156de"
      },
      "id": "H5yjFt-WvO5h",
      "execution_count": null,
      "outputs": [
        {
          "output_type": "stream",
          "name": "stdout",
          "text": [
            "Model: \"sequential\"\n",
            "_________________________________________________________________\n",
            " Layer (type)                Output Shape              Param #   \n",
            "=================================================================\n",
            " conv2d (Conv2D)             (None, 98, 98, 64)        640       \n",
            "                                                                 \n",
            " max_pooling2d (MaxPooling2D  (None, 49, 49, 64)       0         \n",
            " )                                                               \n",
            "                                                                 \n",
            " conv2d_1 (Conv2D)           (None, 47, 47, 64)        36928     \n",
            "                                                                 \n",
            " max_pooling2d_1 (MaxPooling  (None, 23, 23, 64)       0         \n",
            " 2D)                                                             \n",
            "                                                                 \n",
            " conv2d_2 (Conv2D)           (None, 21, 21, 128)       73856     \n",
            "                                                                 \n",
            " max_pooling2d_2 (MaxPooling  (None, 10, 10, 128)      0         \n",
            " 2D)                                                             \n",
            "                                                                 \n",
            " conv2d_3 (Conv2D)           (None, 8, 8, 128)         147584    \n",
            "                                                                 \n",
            " max_pooling2d_3 (MaxPooling  (None, 4, 4, 128)        0         \n",
            " 2D)                                                             \n",
            "                                                                 \n",
            " flatten (Flatten)           (None, 2048)              0         \n",
            "                                                                 \n",
            " dropout (Dropout)           (None, 2048)              0         \n",
            "                                                                 \n",
            " dense (Dense)               (None, 512)               1049088   \n",
            "                                                                 \n",
            " dense_1 (Dense)             (None, 12)                6156      \n",
            "                                                                 \n",
            "=================================================================\n",
            "Total params: 1,314,252\n",
            "Trainable params: 1,314,252\n",
            "Non-trainable params: 0\n",
            "_________________________________________________________________\n"
          ]
        }
      ]
    },
    {
      "cell_type": "code",
      "source": [
        "\n",
        "model.compile(optimizer = \"rmsprop\",\n",
        "              loss = 'sparse_categorical_crossentropy',\n",
        "              metrics=['accuracy'])"
      ],
      "metadata": {
        "id": "_-tqmyNqvO8u"
      },
      "id": "_-tqmyNqvO8u",
      "execution_count": null,
      "outputs": []
    },
    {
      "cell_type": "code",
      "execution_count": null,
      "metadata": {
        "id": "resistant-cigarette",
        "colab": {
          "base_uri": "https://localhost:8080/",
          "height": 345
        },
        "outputId": "fd43a243-ac9f-455c-f2b7-b031fc365628"
      },
      "outputs": [
        {
          "output_type": "stream",
          "name": "stdout",
          "text": [
            "Epoch 1/10\n",
            " 345/1094 [========>.....................] - ETA: 26s - loss: 0.2801 - accuracy: 0.9159"
          ]
        },
        {
          "output_type": "error",
          "ename": "KeyboardInterrupt",
          "evalue": "ignored",
          "traceback": [
            "\u001b[0;31m---------------------------------------------------------------------------\u001b[0m",
            "\u001b[0;31mKeyboardInterrupt\u001b[0m                         Traceback (most recent call last)",
            "\u001b[0;32m<ipython-input-10-d75e6806f4cb>\u001b[0m in \u001b[0;36m<module>\u001b[0;34m()\u001b[0m\n\u001b[0;32m----> 1\u001b[0;31m \u001b[0mmodel\u001b[0m\u001b[0;34m.\u001b[0m\u001b[0mfit\u001b[0m\u001b[0;34m(\u001b[0m\u001b[0mx_train\u001b[0m\u001b[0;34m,\u001b[0m \u001b[0my1_train\u001b[0m\u001b[0;34m,\u001b[0m \u001b[0mepochs\u001b[0m\u001b[0;34m=\u001b[0m\u001b[0;36m10\u001b[0m\u001b[0;34m)\u001b[0m\u001b[0;34m\u001b[0m\u001b[0;34m\u001b[0m\u001b[0m\n\u001b[0m",
            "\u001b[0;32m/usr/local/lib/python3.7/dist-packages/keras/utils/traceback_utils.py\u001b[0m in \u001b[0;36merror_handler\u001b[0;34m(*args, **kwargs)\u001b[0m\n\u001b[1;32m     62\u001b[0m     \u001b[0mfiltered_tb\u001b[0m \u001b[0;34m=\u001b[0m \u001b[0;32mNone\u001b[0m\u001b[0;34m\u001b[0m\u001b[0;34m\u001b[0m\u001b[0m\n\u001b[1;32m     63\u001b[0m     \u001b[0;32mtry\u001b[0m\u001b[0;34m:\u001b[0m\u001b[0;34m\u001b[0m\u001b[0;34m\u001b[0m\u001b[0m\n\u001b[0;32m---> 64\u001b[0;31m       \u001b[0;32mreturn\u001b[0m \u001b[0mfn\u001b[0m\u001b[0;34m(\u001b[0m\u001b[0;34m*\u001b[0m\u001b[0margs\u001b[0m\u001b[0;34m,\u001b[0m \u001b[0;34m**\u001b[0m\u001b[0mkwargs\u001b[0m\u001b[0;34m)\u001b[0m\u001b[0;34m\u001b[0m\u001b[0;34m\u001b[0m\u001b[0m\n\u001b[0m\u001b[1;32m     65\u001b[0m     \u001b[0;32mexcept\u001b[0m \u001b[0mException\u001b[0m \u001b[0;32mas\u001b[0m \u001b[0me\u001b[0m\u001b[0;34m:\u001b[0m  \u001b[0;31m# pylint: disable=broad-except\u001b[0m\u001b[0;34m\u001b[0m\u001b[0;34m\u001b[0m\u001b[0m\n\u001b[1;32m     66\u001b[0m       \u001b[0mfiltered_tb\u001b[0m \u001b[0;34m=\u001b[0m \u001b[0m_process_traceback_frames\u001b[0m\u001b[0;34m(\u001b[0m\u001b[0me\u001b[0m\u001b[0;34m.\u001b[0m\u001b[0m__traceback__\u001b[0m\u001b[0;34m)\u001b[0m\u001b[0;34m\u001b[0m\u001b[0;34m\u001b[0m\u001b[0m\n",
            "\u001b[0;32m/usr/local/lib/python3.7/dist-packages/keras/engine/training.py\u001b[0m in \u001b[0;36mfit\u001b[0;34m(self, x, y, batch_size, epochs, verbose, callbacks, validation_split, validation_data, shuffle, class_weight, sample_weight, initial_epoch, steps_per_epoch, validation_steps, validation_batch_size, validation_freq, max_queue_size, workers, use_multiprocessing)\u001b[0m\n\u001b[1;32m   1382\u001b[0m                 _r=1):\n\u001b[1;32m   1383\u001b[0m               \u001b[0mcallbacks\u001b[0m\u001b[0;34m.\u001b[0m\u001b[0mon_train_batch_begin\u001b[0m\u001b[0;34m(\u001b[0m\u001b[0mstep\u001b[0m\u001b[0;34m)\u001b[0m\u001b[0;34m\u001b[0m\u001b[0;34m\u001b[0m\u001b[0m\n\u001b[0;32m-> 1384\u001b[0;31m               \u001b[0mtmp_logs\u001b[0m \u001b[0;34m=\u001b[0m \u001b[0mself\u001b[0m\u001b[0;34m.\u001b[0m\u001b[0mtrain_function\u001b[0m\u001b[0;34m(\u001b[0m\u001b[0miterator\u001b[0m\u001b[0;34m)\u001b[0m\u001b[0;34m\u001b[0m\u001b[0;34m\u001b[0m\u001b[0m\n\u001b[0m\u001b[1;32m   1385\u001b[0m               \u001b[0;32mif\u001b[0m \u001b[0mdata_handler\u001b[0m\u001b[0;34m.\u001b[0m\u001b[0mshould_sync\u001b[0m\u001b[0;34m:\u001b[0m\u001b[0;34m\u001b[0m\u001b[0;34m\u001b[0m\u001b[0m\n\u001b[1;32m   1386\u001b[0m                 \u001b[0mcontext\u001b[0m\u001b[0;34m.\u001b[0m\u001b[0masync_wait\u001b[0m\u001b[0;34m(\u001b[0m\u001b[0;34m)\u001b[0m\u001b[0;34m\u001b[0m\u001b[0;34m\u001b[0m\u001b[0m\n",
            "\u001b[0;32m/usr/local/lib/python3.7/dist-packages/tensorflow/python/util/traceback_utils.py\u001b[0m in \u001b[0;36merror_handler\u001b[0;34m(*args, **kwargs)\u001b[0m\n\u001b[1;32m    148\u001b[0m     \u001b[0mfiltered_tb\u001b[0m \u001b[0;34m=\u001b[0m \u001b[0;32mNone\u001b[0m\u001b[0;34m\u001b[0m\u001b[0;34m\u001b[0m\u001b[0m\n\u001b[1;32m    149\u001b[0m     \u001b[0;32mtry\u001b[0m\u001b[0;34m:\u001b[0m\u001b[0;34m\u001b[0m\u001b[0;34m\u001b[0m\u001b[0m\n\u001b[0;32m--> 150\u001b[0;31m       \u001b[0;32mreturn\u001b[0m \u001b[0mfn\u001b[0m\u001b[0;34m(\u001b[0m\u001b[0;34m*\u001b[0m\u001b[0margs\u001b[0m\u001b[0;34m,\u001b[0m \u001b[0;34m**\u001b[0m\u001b[0mkwargs\u001b[0m\u001b[0;34m)\u001b[0m\u001b[0;34m\u001b[0m\u001b[0;34m\u001b[0m\u001b[0m\n\u001b[0m\u001b[1;32m    151\u001b[0m     \u001b[0;32mexcept\u001b[0m \u001b[0mException\u001b[0m \u001b[0;32mas\u001b[0m \u001b[0me\u001b[0m\u001b[0;34m:\u001b[0m\u001b[0;34m\u001b[0m\u001b[0;34m\u001b[0m\u001b[0m\n\u001b[1;32m    152\u001b[0m       \u001b[0mfiltered_tb\u001b[0m \u001b[0;34m=\u001b[0m \u001b[0m_process_traceback_frames\u001b[0m\u001b[0;34m(\u001b[0m\u001b[0me\u001b[0m\u001b[0;34m.\u001b[0m\u001b[0m__traceback__\u001b[0m\u001b[0;34m)\u001b[0m\u001b[0;34m\u001b[0m\u001b[0;34m\u001b[0m\u001b[0m\n",
            "\u001b[0;32m/usr/local/lib/python3.7/dist-packages/tensorflow/python/eager/def_function.py\u001b[0m in \u001b[0;36m__call__\u001b[0;34m(self, *args, **kwds)\u001b[0m\n\u001b[1;32m    913\u001b[0m \u001b[0;34m\u001b[0m\u001b[0m\n\u001b[1;32m    914\u001b[0m       \u001b[0;32mwith\u001b[0m \u001b[0mOptionalXlaContext\u001b[0m\u001b[0;34m(\u001b[0m\u001b[0mself\u001b[0m\u001b[0;34m.\u001b[0m\u001b[0m_jit_compile\u001b[0m\u001b[0;34m)\u001b[0m\u001b[0;34m:\u001b[0m\u001b[0;34m\u001b[0m\u001b[0;34m\u001b[0m\u001b[0m\n\u001b[0;32m--> 915\u001b[0;31m         \u001b[0mresult\u001b[0m \u001b[0;34m=\u001b[0m \u001b[0mself\u001b[0m\u001b[0;34m.\u001b[0m\u001b[0m_call\u001b[0m\u001b[0;34m(\u001b[0m\u001b[0;34m*\u001b[0m\u001b[0margs\u001b[0m\u001b[0;34m,\u001b[0m \u001b[0;34m**\u001b[0m\u001b[0mkwds\u001b[0m\u001b[0;34m)\u001b[0m\u001b[0;34m\u001b[0m\u001b[0;34m\u001b[0m\u001b[0m\n\u001b[0m\u001b[1;32m    916\u001b[0m \u001b[0;34m\u001b[0m\u001b[0m\n\u001b[1;32m    917\u001b[0m       \u001b[0mnew_tracing_count\u001b[0m \u001b[0;34m=\u001b[0m \u001b[0mself\u001b[0m\u001b[0;34m.\u001b[0m\u001b[0mexperimental_get_tracing_count\u001b[0m\u001b[0;34m(\u001b[0m\u001b[0;34m)\u001b[0m\u001b[0;34m\u001b[0m\u001b[0;34m\u001b[0m\u001b[0m\n",
            "\u001b[0;32m/usr/local/lib/python3.7/dist-packages/tensorflow/python/eager/def_function.py\u001b[0m in \u001b[0;36m_call\u001b[0;34m(self, *args, **kwds)\u001b[0m\n\u001b[1;32m    945\u001b[0m       \u001b[0;31m# In this case we have created variables on the first call, so we run the\u001b[0m\u001b[0;34m\u001b[0m\u001b[0;34m\u001b[0m\u001b[0;34m\u001b[0m\u001b[0m\n\u001b[1;32m    946\u001b[0m       \u001b[0;31m# defunned version which is guaranteed to never create variables.\u001b[0m\u001b[0;34m\u001b[0m\u001b[0;34m\u001b[0m\u001b[0;34m\u001b[0m\u001b[0m\n\u001b[0;32m--> 947\u001b[0;31m       \u001b[0;32mreturn\u001b[0m \u001b[0mself\u001b[0m\u001b[0;34m.\u001b[0m\u001b[0m_stateless_fn\u001b[0m\u001b[0;34m(\u001b[0m\u001b[0;34m*\u001b[0m\u001b[0margs\u001b[0m\u001b[0;34m,\u001b[0m \u001b[0;34m**\u001b[0m\u001b[0mkwds\u001b[0m\u001b[0;34m)\u001b[0m  \u001b[0;31m# pylint: disable=not-callable\u001b[0m\u001b[0;34m\u001b[0m\u001b[0;34m\u001b[0m\u001b[0m\n\u001b[0m\u001b[1;32m    948\u001b[0m     \u001b[0;32melif\u001b[0m \u001b[0mself\u001b[0m\u001b[0;34m.\u001b[0m\u001b[0m_stateful_fn\u001b[0m \u001b[0;32mis\u001b[0m \u001b[0;32mnot\u001b[0m \u001b[0;32mNone\u001b[0m\u001b[0;34m:\u001b[0m\u001b[0;34m\u001b[0m\u001b[0;34m\u001b[0m\u001b[0m\n\u001b[1;32m    949\u001b[0m       \u001b[0;31m# Release the lock early so that multiple threads can perform the call\u001b[0m\u001b[0;34m\u001b[0m\u001b[0;34m\u001b[0m\u001b[0;34m\u001b[0m\u001b[0m\n",
            "\u001b[0;32m/usr/local/lib/python3.7/dist-packages/tensorflow/python/eager/function.py\u001b[0m in \u001b[0;36m__call__\u001b[0;34m(self, *args, **kwargs)\u001b[0m\n\u001b[1;32m   2955\u001b[0m        filtered_flat_args) = self._maybe_define_function(args, kwargs)\n\u001b[1;32m   2956\u001b[0m     return graph_function._call_flat(\n\u001b[0;32m-> 2957\u001b[0;31m         filtered_flat_args, captured_inputs=graph_function.captured_inputs)  # pylint: disable=protected-access\n\u001b[0m\u001b[1;32m   2958\u001b[0m \u001b[0;34m\u001b[0m\u001b[0m\n\u001b[1;32m   2959\u001b[0m   \u001b[0;34m@\u001b[0m\u001b[0mproperty\u001b[0m\u001b[0;34m\u001b[0m\u001b[0;34m\u001b[0m\u001b[0m\n",
            "\u001b[0;32m/usr/local/lib/python3.7/dist-packages/tensorflow/python/eager/function.py\u001b[0m in \u001b[0;36m_call_flat\u001b[0;34m(self, args, captured_inputs, cancellation_manager)\u001b[0m\n\u001b[1;32m   1852\u001b[0m       \u001b[0;31m# No tape is watching; skip to running the function.\u001b[0m\u001b[0;34m\u001b[0m\u001b[0;34m\u001b[0m\u001b[0;34m\u001b[0m\u001b[0m\n\u001b[1;32m   1853\u001b[0m       return self._build_call_outputs(self._inference_function.call(\n\u001b[0;32m-> 1854\u001b[0;31m           ctx, args, cancellation_manager=cancellation_manager))\n\u001b[0m\u001b[1;32m   1855\u001b[0m     forward_backward = self._select_forward_and_backward_functions(\n\u001b[1;32m   1856\u001b[0m         \u001b[0margs\u001b[0m\u001b[0;34m,\u001b[0m\u001b[0;34m\u001b[0m\u001b[0;34m\u001b[0m\u001b[0m\n",
            "\u001b[0;32m/usr/local/lib/python3.7/dist-packages/tensorflow/python/eager/function.py\u001b[0m in \u001b[0;36mcall\u001b[0;34m(self, ctx, args, cancellation_manager)\u001b[0m\n\u001b[1;32m    502\u001b[0m               \u001b[0minputs\u001b[0m\u001b[0;34m=\u001b[0m\u001b[0margs\u001b[0m\u001b[0;34m,\u001b[0m\u001b[0;34m\u001b[0m\u001b[0;34m\u001b[0m\u001b[0m\n\u001b[1;32m    503\u001b[0m               \u001b[0mattrs\u001b[0m\u001b[0;34m=\u001b[0m\u001b[0mattrs\u001b[0m\u001b[0;34m,\u001b[0m\u001b[0;34m\u001b[0m\u001b[0;34m\u001b[0m\u001b[0m\n\u001b[0;32m--> 504\u001b[0;31m               ctx=ctx)\n\u001b[0m\u001b[1;32m    505\u001b[0m         \u001b[0;32melse\u001b[0m\u001b[0;34m:\u001b[0m\u001b[0;34m\u001b[0m\u001b[0;34m\u001b[0m\u001b[0m\n\u001b[1;32m    506\u001b[0m           outputs = execute.execute_with_cancellation(\n",
            "\u001b[0;32m/usr/local/lib/python3.7/dist-packages/tensorflow/python/eager/execute.py\u001b[0m in \u001b[0;36mquick_execute\u001b[0;34m(op_name, num_outputs, inputs, attrs, ctx, name)\u001b[0m\n\u001b[1;32m     53\u001b[0m     \u001b[0mctx\u001b[0m\u001b[0;34m.\u001b[0m\u001b[0mensure_initialized\u001b[0m\u001b[0;34m(\u001b[0m\u001b[0;34m)\u001b[0m\u001b[0;34m\u001b[0m\u001b[0;34m\u001b[0m\u001b[0m\n\u001b[1;32m     54\u001b[0m     tensors = pywrap_tfe.TFE_Py_Execute(ctx._handle, device_name, op_name,\n\u001b[0;32m---> 55\u001b[0;31m                                         inputs, attrs, num_outputs)\n\u001b[0m\u001b[1;32m     56\u001b[0m   \u001b[0;32mexcept\u001b[0m \u001b[0mcore\u001b[0m\u001b[0;34m.\u001b[0m\u001b[0m_NotOkStatusException\u001b[0m \u001b[0;32mas\u001b[0m \u001b[0me\u001b[0m\u001b[0;34m:\u001b[0m\u001b[0;34m\u001b[0m\u001b[0;34m\u001b[0m\u001b[0m\n\u001b[1;32m     57\u001b[0m     \u001b[0;32mif\u001b[0m \u001b[0mname\u001b[0m \u001b[0;32mis\u001b[0m \u001b[0;32mnot\u001b[0m \u001b[0;32mNone\u001b[0m\u001b[0;34m:\u001b[0m\u001b[0;34m\u001b[0m\u001b[0;34m\u001b[0m\u001b[0m\n",
            "\u001b[0;31mKeyboardInterrupt\u001b[0m: "
          ]
        }
      ],
      "source": [
        "model.fit(x_train, y1_train, epochs=10)"
      ],
      "id": "resistant-cigarette"
    },
    {
      "cell_type": "code",
      "execution_count": null,
      "metadata": {
        "id": "comparative-alpha"
      },
      "outputs": [],
      "source": [
        ""
      ],
      "id": "comparative-alpha"
    },
    {
      "cell_type": "code",
      "execution_count": null,
      "metadata": {
        "id": "serious-official"
      },
      "outputs": [],
      "source": [
        "def prediction(imgs_data, img_number): \n",
        "\n",
        "  predict = model.predict(imgs_data)\n",
        "  predict = np.argmax(predict[img_number])\n",
        "  \n",
        "  img = imgs_data[img_number][:,:,0]\n",
        "  img = plt.imshow(img)\n",
        "                   \n",
        "  return predict, img\n",
        "   "
      ],
      "id": "serious-official"
    },
    {
      "cell_type": "code",
      "source": [
        "prediction(x_test, 0)"
      ],
      "metadata": {
        "colab": {
          "base_uri": "https://localhost:8080/",
          "height": 285
        },
        "id": "agecgz33FAtM",
        "outputId": "74ae705b-d8af-4a1a-f133-04d569a4139b"
      },
      "id": "agecgz33FAtM",
      "execution_count": null,
      "outputs": [
        {
          "output_type": "execute_result",
          "data": {
            "text/plain": [
              "(6, <matplotlib.image.AxesImage at 0x7fc6e09fb790>)"
            ]
          },
          "metadata": {},
          "execution_count": 12
        },
        {
          "output_type": "display_data",
          "data": {
            "image/png": "[encoded data removed]",
            "text/plain": [
              "<Figure size 432x288 with 1 Axes>"
            ]
          },
          "metadata": {
            "needs_background": "light"
          }
        }
      ]
    },
    {
      "cell_type": "code",
      "source": [
        "#Save and load model\n",
        "\n",
        "#model.save(\"/content/drive/MyDrive/Colab Notebooks/Analog_clock/model.h5\")\n",
        "#model = load_model('/content/drive/MyDrive/Colab Notebooks/Analog_clock/model.h5')"
      ],
      "metadata": {
        "id": "VmBImGfP2TMj"
      },
      "id": "VmBImGfP2TMj",
      "execution_count": null,
      "outputs": []
    },
    {
      "cell_type": "code",
      "source": [
        "\n"
      ],
      "metadata": {
        "id": "25iGSUps2sxX"
      },
      "id": "25iGSUps2sxX",
      "execution_count": null,
      "outputs": []
    },
    {
      "cell_type": "markdown",
      "source": [
        "# **Neural Network to prediction time**"
      ],
      "metadata": {
        "id": "89JTjqmu2vBY"
      },
      "id": "89JTjqmu2vBY"
    },
    {
      "cell_type": "code",
      "source": [
        "    inp = Input(shape=(100, 100, 1))\n",
        "\n",
        "    x = Conv2D(64, (3,3), activation='relu')(inp)\n",
        "    x = MaxPooling2D(pool_size=(2, 2))(x)\n",
        "\n",
        "    x = Conv2D(64, (3,3), activation='relu')(inp)\n",
        "    x = MaxPooling2D(pool_size=(2, 2))(x)\n",
        "\n",
        "    x = Conv2D(128, (3,3), activation='relu')(inp)\n",
        "    x = MaxPooling2D(pool_size=(2, 2))(x)\n",
        "\n",
        "    x = Conv2D(128, (3,3), activation='relu')(inp)\n",
        "    x = MaxPooling2D(pool_size=(2, 2))(x)\n",
        "\n",
        "    x = Flatten()(x)\n",
        "    x = tf.keras.layers.Dropout(0.5)(x)\n",
        "\n",
        "    hour = Dense(512, activation='relu')(x)\n",
        "    hour = Dense(12, activation='softmax', name='hour')(hour)\n",
        "\n",
        "    minute = Dense(512, activation='relu')(x)\n",
        "    minute = Dense(128, activation='relu')(minute)\n",
        "    minute = Dense(60, activation='softmax', name='minute')(minute)\n",
        "\n",
        "    model = Model(inputs=inp, outputs=[hour, minute])\n",
        "\n",
        "\n",
        "    model.summary()\n",
        "    "
      ],
      "metadata": {
        "colab": {
          "base_uri": "https://localhost:8080/"
        },
        "id": "4s03fKwf3Ep2",
        "outputId": "8102c843-414f-4d50-aaff-a70035a1488d"
      },
      "id": "4s03fKwf3Ep2",
      "execution_count": null,
      "outputs": [
        {
          "output_type": "stream",
          "name": "stdout",
          "text": [
            "Model: \"model\"\n",
            "__________________________________________________________________________________________________\n",
            " Layer (type)                   Output Shape         Param #     Connected to                     \n",
            "==================================================================================================\n",
            " input_1 (InputLayer)           [(None, 100, 100, 1  0           []                               \n",
            "                                )]                                                                \n",
            "                                                                                                  \n",
            " conv2d_3 (Conv2D)              (None, 98, 98, 128)  1280        ['input_1[0][0]']                \n",
            "                                                                                                  \n",
            " max_pooling2d_3 (MaxPooling2D)  (None, 49, 49, 128)  0          ['conv2d_3[0][0]']               \n",
            "                                                                                                  \n",
            " flatten (Flatten)              (None, 307328)       0           ['max_pooling2d_3[0][0]']        \n",
            "                                                                                                  \n",
            " dropout (Dropout)              (None, 307328)       0           ['flatten[0][0]']                \n",
            "                                                                                                  \n",
            " dense_1 (Dense)                (None, 512)          157352448   ['dropout[0][0]']                \n",
            "                                                                                                  \n",
            " dense (Dense)                  (None, 512)          157352448   ['dropout[0][0]']                \n",
            "                                                                                                  \n",
            " dense_2 (Dense)                (None, 128)          65664       ['dense_1[0][0]']                \n",
            "                                                                                                  \n",
            " hour (Dense)                   (None, 12)           6156        ['dense[0][0]']                  \n",
            "                                                                                                  \n",
            " minute (Dense)                 (None, 60)           7740        ['dense_2[0][0]']                \n",
            "                                                                                                  \n",
            "==================================================================================================\n",
            "Total params: 314,785,736\n",
            "Trainable params: 314,785,736\n",
            "Non-trainable params: 0\n",
            "__________________________________________________________________________________________________\n"
          ]
        }
      ]
    },
    {
      "cell_type": "code",
      "source": [
        "model.compile(optimizer = \"rmsprop\",\n",
        "              loss = 'sparse_categorical_crossentropy',\n",
        "              metrics=['accuracy'])"
      ],
      "metadata": {
        "id": "mjdiPhtK30yM"
      },
      "id": "mjdiPhtK30yM",
      "execution_count": null,
      "outputs": []
    },
    {
      "cell_type": "code",
      "source": [
        "model.fit(x_train, [y1_train, y2_train], epochs=25)"
      ],
      "metadata": {
        "colab": {
          "base_uri": "https://localhost:8080/"
        },
        "id": "r3bv0C5z5p7G",
        "outputId": "02a91890-7398-4ceb-f730-a7cf2c3606a4"
      },
      "id": "r3bv0C5z5p7G",
      "execution_count": null,
      "outputs": [
        {
          "output_type": "stream",
          "name": "stdout",
          "text": [
            "Epoch 1/25\n",
            "1094/1094 [==============================] - 312s 283ms/step - loss: 6.8830 - hour_loss: 2.6850 - minute_loss: 4.1980 - hour_accuracy: 0.1098 - minute_accuracy: 0.0189\n",
            "Epoch 2/25\n",
            "1094/1094 [==============================] - 310s 283ms/step - loss: 6.2020 - hour_loss: 2.2487 - minute_loss: 3.9533 - hour_accuracy: 0.2107 - minute_accuracy: 0.0421\n",
            "Epoch 3/25\n",
            "1094/1094 [==============================] - 310s 283ms/step - loss: 5.5960 - hour_loss: 1.9931 - minute_loss: 3.6029 - hour_accuracy: 0.3038 - minute_accuracy: 0.0905\n",
            "Epoch 4/25\n",
            "1094/1094 [==============================] - 310s 283ms/step - loss: 4.9876 - hour_loss: 1.7847 - minute_loss: 3.2029 - hour_accuracy: 0.3875 - minute_accuracy: 0.1621\n",
            "Epoch 5/25\n",
            "1094/1094 [==============================] - 309s 283ms/step - loss: 4.3140 - hour_loss: 1.5759 - minute_loss: 2.7381 - hour_accuracy: 0.4653 - minute_accuracy: 0.2752\n",
            "Epoch 6/25\n",
            "1094/1094 [==============================] - 309s 283ms/step - loss: 3.6201 - hour_loss: 1.3908 - minute_loss: 2.2293 - hour_accuracy: 0.5335 - minute_accuracy: 0.3960\n",
            "Epoch 7/25\n",
            "1094/1094 [==============================] - 309s 283ms/step - loss: 2.9667 - hour_loss: 1.2101 - minute_loss: 1.7566 - hour_accuracy: 0.5988 - minute_accuracy: 0.5176\n",
            "Epoch 8/25\n",
            "1094/1094 [==============================] - 309s 283ms/step - loss: 2.4171 - hour_loss: 1.0519 - minute_loss: 1.3652 - hour_accuracy: 0.6586 - minute_accuracy: 0.6231\n",
            "Epoch 9/25\n",
            "1094/1094 [==============================] - 309s 282ms/step - loss: 1.9715 - hour_loss: 0.9198 - minute_loss: 1.0517 - hour_accuracy: 0.7030 - minute_accuracy: 0.7105\n",
            "Epoch 10/25\n",
            "1094/1094 [==============================] - 309s 283ms/step - loss: 1.6005 - hour_loss: 0.7937 - minute_loss: 0.8068 - hour_accuracy: 0.7493 - minute_accuracy: 0.7796\n",
            "Epoch 11/25\n",
            "1094/1094 [==============================] - 310s 283ms/step - loss: 1.3329 - hour_loss: 0.6931 - minute_loss: 0.6399 - hour_accuracy: 0.7857 - minute_accuracy: 0.8287\n",
            "Epoch 12/25\n",
            "1094/1094 [==============================] - 310s 283ms/step - loss: 1.1469 - hour_loss: 0.6171 - minute_loss: 0.5297 - hour_accuracy: 0.8141 - minute_accuracy: 0.8595\n",
            "Epoch 13/25\n",
            "1094/1094 [==============================] - 310s 283ms/step - loss: 0.9813 - hour_loss: 0.5484 - minute_loss: 0.4329 - hour_accuracy: 0.8379 - minute_accuracy: 0.8884\n",
            "Epoch 14/25\n",
            "1094/1094 [==============================] - 310s 283ms/step - loss: 0.8724 - hour_loss: 0.4814 - minute_loss: 0.3910 - hour_accuracy: 0.8601 - minute_accuracy: 0.9067\n",
            "Epoch 15/25\n",
            "1094/1094 [==============================] - 310s 283ms/step - loss: 0.7737 - hour_loss: 0.4304 - minute_loss: 0.3432 - hour_accuracy: 0.8767 - minute_accuracy: 0.9196\n",
            "Epoch 16/25\n",
            "1094/1094 [==============================] - 310s 283ms/step - loss: 0.7038 - hour_loss: 0.4002 - minute_loss: 0.3036 - hour_accuracy: 0.8890 - minute_accuracy: 0.9323\n",
            "Epoch 17/25\n",
            "1094/1094 [==============================] - 310s 284ms/step - loss: 0.6228 - hour_loss: 0.3458 - minute_loss: 0.2770 - hour_accuracy: 0.9057 - minute_accuracy: 0.9403\n",
            "Epoch 18/25\n",
            "1094/1094 [==============================] - 310s 284ms/step - loss: 0.5886 - hour_loss: 0.3283 - minute_loss: 0.2603 - hour_accuracy: 0.9143 - minute_accuracy: 0.9441\n",
            "Epoch 19/25\n",
            "1094/1094 [==============================] - 311s 284ms/step - loss: 0.5384 - hour_loss: 0.3015 - minute_loss: 0.2369 - hour_accuracy: 0.9207 - minute_accuracy: 0.9495\n",
            "Epoch 20/25\n",
            "1094/1094 [==============================] - 311s 285ms/step - loss: 0.5145 - hour_loss: 0.2870 - minute_loss: 0.2275 - hour_accuracy: 0.9285 - minute_accuracy: 0.9529\n",
            "Epoch 21/25\n",
            "1094/1094 [==============================] - 311s 284ms/step - loss: 0.4794 - hour_loss: 0.2526 - minute_loss: 0.2268 - hour_accuracy: 0.9375 - minute_accuracy: 0.9555\n",
            "Epoch 22/25\n",
            "1094/1094 [==============================] - 311s 284ms/step - loss: 0.4453 - hour_loss: 0.2365 - minute_loss: 0.2088 - hour_accuracy: 0.9405 - minute_accuracy: 0.9589\n",
            "Epoch 23/25\n",
            "1094/1094 [==============================] - 310s 283ms/step - loss: 0.4295 - hour_loss: 0.2273 - minute_loss: 0.2021 - hour_accuracy: 0.9457 - minute_accuracy: 0.9603\n",
            "Epoch 24/25\n",
            "1094/1094 [==============================] - 309s 283ms/step - loss: 0.4281 - hour_loss: 0.2214 - minute_loss: 0.2066 - hour_accuracy: 0.9492 - minute_accuracy: 0.9611\n",
            "Epoch 25/25\n",
            "1094/1094 [==============================] - 310s 283ms/step - loss: 0.3985 - hour_loss: 0.2014 - minute_loss: 0.1971 - hour_accuracy: 0.9540 - minute_accuracy: 0.9641\n"
          ]
        },
        {
          "output_type": "execute_result",
          "data": {
            "text/plain": [
              "<keras.callbacks.History at 0x7f76a3225150>"
            ]
          },
          "metadata": {},
          "execution_count": 8
        }
      ]
    },
    {
      "cell_type": "code",
      "source": [
        "model.save(\"/content/drive/MyDrive/Colab Notebooks/Analog_clock/model.h5\")"
      ],
      "metadata": {
        "id": "tAQ1urjx3fy9"
      },
      "id": "tAQ1urjx3fy9",
      "execution_count": null,
      "outputs": []
    },
    {
      "cell_type": "code",
      "source": [
        "def prediction(imgs_data, img_number): \n",
        "\n",
        "  predict = model.predict(imgs_data)\n",
        "  predict = np.argmax(predict[img_number])\n",
        "  \n",
        "  img = imgs_data[img_number][:,:,0]\n",
        "  img = plt.imshow(img)\n",
        "                   \n",
        "  return predict, img"
      ],
      "metadata": {
        "id": "Q1G9wfto5407"
      },
      "id": "Q1G9wfto5407",
      "execution_count": null,
      "outputs": []
    },
    {
      "cell_type": "code",
      "source": [
        "\n"
      ],
      "metadata": {
        "id": "Y1gSfbuoUQZ6"
      },
      "id": "Y1gSfbuoUQZ6",
      "execution_count": null,
      "outputs": []
    }
  ],
  "metadata": {
    "accelerator": "GPU",
    "colab": {
      "collapsed_sections": [
        "tCrG8oQU-UYS"
      ],
      "name": "Clock_model.ipynb",
      "provenance": [],
      "include_colab_link": true
    },
    "kernelspec": {
      "display_name": "Python 3",
      "language": "python",
      "name": "python3"
    },
    "language_info": {
      "codemirror_mode": {
        "name": "ipython",
        "version": 3
      },
      "file_extension": ".py",
      "mimetype": "text/x-python",
      "name": "python",
      "nbconvert_exporter": "python",
      "pygments_lexer": "ipython3",
      "version": "3.8.8"
    }
  },
  "nbformat": 4,
  "nbformat_minor": 5
}