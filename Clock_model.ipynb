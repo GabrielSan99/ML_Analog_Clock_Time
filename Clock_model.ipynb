{
  "cells": [
    {
      "cell_type": "code",
      "source": [
        "from google.colab import drive\n",
        "drive.mount('/content/drive')"
      ],
      "metadata": {
        "colab": {
          "base_uri": "https://localhost:8080/"
        },
        "id": "wsoPmATXSyz5",
        "outputId": "1549586c-4a46-4bc5-dc2c-67bbd285a825"
      },
      "id": "wsoPmATXSyz5",
      "execution_count": 1,
      "outputs": [
        {
          "output_type": "stream",
          "name": "stdout",
          "text": [
            "Mounted at /content/drive\n"
          ]
        }
      ]
    },
    {
      "cell_type": "markdown",
      "source": [
        "# **Load data and reshapes**\n",
        "\n",
        "\n"
      ],
      "metadata": {
        "id": "tCrG8oQU-UYS"
      },
      "id": "tCrG8oQU-UYS"
    },
    {
      "cell_type": "code",
      "execution_count": 1,
      "metadata": {
        "id": "atlantic-insight"
      },
      "outputs": [],
      "source": [
        "import os\n",
        "import numpy as np\n",
        "from numpy import load\n",
        "import pandas as pd\n",
        "import seaborn as sns\n",
        "import argparse\n",
        "import cv2\n",
        "from tqdm import tqdm\n",
        "import pickle\n",
        "\n",
        "import matplotlib.pyplot as plt\n",
        "%matplotlib inline\n",
        "#import plotly.graph_objects as go\n",
        "#import plotly.express as px\n",
        "\n",
        "\n",
        "import tensorflow as tf\n",
        "physical_devices = tf.config.list_physical_devices('GPU')\n",
        "from tensorflow import keras\n",
        "from tensorflow.keras import Sequential\n",
        "from tensorflow.keras.models import Sequential, Model\n",
        "from tensorflow.keras.models import load_model\n",
        "from tensorflow.keras.models import model_from_json\n",
        "from tensorflow.keras.callbacks import EarlyStopping\n",
        "from tensorflow.keras.callbacks import ReduceLROnPlateau\n",
        "from tensorflow.keras.layers import Dense, Flatten, Activation, BatchNormalization\n",
        "from tensorflow.keras.layers import Dropout\n",
        "from tensorflow.keras.layers import Input\n",
        "from tensorflow.keras.layers import Conv2D, MaxPooling2D\n",
        "from tensorflow.keras.optimizers import Adam\n",
        "\n",
        "\n",
        "\n",
        "import sklearn.metrics\n",
        "from sklearn.ensemble import RandomForestClassifier\n",
        "from sklearn.decomposition import PCA\n",
        "from sklearn.datasets import load_iris\n",
        "from sklearn.feature_selection import SelectKBest\n",
        "from sklearn.feature_selection import chi2\n",
        "from sklearn.ensemble import RandomForestClassifier\n"
      ],
      "id": "atlantic-insight"
    },
    {
      "cell_type": "code",
      "execution_count": 2,
      "metadata": {
        "id": "angry-lounge"
      },
      "outputs": [],
      "source": [
        "pickle_in = open(\"/content/drive/MyDrive/Colab Notebooks/Analog_clock/dataset.pickle\",\"rb\")\n",
        "dataset = pickle.load(pickle_in)"
      ],
      "id": "angry-lounge"
    },
    {
      "cell_type": "code",
      "execution_count": 3,
      "metadata": {
        "id": "requested-carpet"
      },
      "outputs": [],
      "source": [
        "x = []\n",
        "y = []\n",
        "\n",
        "for features,label in dataset:\n",
        "    x.append(features)    \n",
        "    y.append(label)            \n",
        "\n",
        "x = np.array(x)\n",
        "x = x/255\n",
        "y = np.array(y)\n",
        "\n",
        "x_train = x[:int(0.7*len(x))]\n",
        "x_test = x[int(0.7*len(x)):int(0.9*len(x))]\n",
        "x_validation = x[int(0.9*len(x)): len(x)]\n",
        "\n",
        "\n",
        "y1 = (y[:,:1])     #hour\n",
        "y2 = (y[:,1:2])    #minute\n",
        "\n",
        "\n",
        "y1_train = y1[:int(0.7*len(y1))]\n",
        "y1_test = y1[int(0.7*len(y1)):int(0.9*len(y1))]\n",
        "y1_validation = y1[int(0.9*len(y1)): len(y1)]\n",
        "\n",
        "y2_train = y2[:int(0.7*len(y2))]\n",
        "y2_test = y2[int(0.7*len(y2)):int(0.9*len(y2))]\n",
        "y2_validation = y2[int(0.9*len(y2)) : len(y2)]"
      ],
      "id": "requested-carpet"
    },
    {
      "cell_type": "code",
      "execution_count": 4,
      "metadata": {
        "id": "hispanic-wings",
        "colab": {
          "base_uri": "https://localhost:8080/",
          "height": 452
        },
        "outputId": "409ec60d-5c12-4f6a-8a9d-4bac411d0ea5"
      },
      "outputs": [
        {
          "output_type": "stream",
          "name": "stdout",
          "text": [
            "Hour:  4\n",
            "Minute:  2\n",
            "Shape:  (100, 100)\n",
            "[[0.18039216 0.18039216 0.18039216 ... 0.18039216 0.18039216 0.18039216]\n",
            " [0.18039216 0.18039216 0.18039216 ... 0.18039216 0.18039216 0.18039216]\n",
            " [0.18039216 0.18039216 0.18039216 ... 0.18039216 0.18039216 0.18039216]\n",
            " ...\n",
            " [0.18039216 0.18039216 0.18039216 ... 0.18039216 0.18039216 0.18039216]\n",
            " [0.18039216 0.18039216 0.18039216 ... 0.18039216 0.18039216 0.18039216]\n",
            " [0.18039216 0.18039216 0.18039216 ... 0.18039216 0.18039216 0.18039216]]\n"
          ]
        },
        {
          "output_type": "display_data",
          "data": {
            "image/png": "[encoded data removed]",
            "text/plain": [
              "<Figure size 432x288 with 1 Axes>"
            ]
          },
          "metadata": {
            "needs_background": "light"
          }
        }
      ],
      "source": [
        "print(\"Hour: \", int(y1_train[0]))\n",
        "print(\"Minute: \", int(y2_train[0]))    \n",
        "print(\"Shape: \", x_train[0].shape)     #this shape show us that image is a black and white image (100,100), but not binarized because your pixels aren't 0 and 1\n",
        "\n",
        "plt.imshow(x_train[0])\n",
        "\n",
        "print(x_train[0])\n",
        "\n"
      ],
      "id": "hispanic-wings"
    },
    {
      "cell_type": "code",
      "execution_count": 5,
      "metadata": {
        "id": "polar-banana",
        "colab": {
          "base_uri": "https://localhost:8080/"
        },
        "outputId": "e1e5ff49-8341-49e5-e557-2b5b787931a5"
      },
      "outputs": [
        {
          "output_type": "stream",
          "name": "stdout",
          "text": [
            "(35000, 100, 100, 1) (10000, 100, 100, 1) (5000, 100, 100, 1)\n"
          ]
        }
      ],
      "source": [
        "x_train = x_train.reshape(-1, 100, 100, 1)\n",
        "x_test = x_test.reshape(-1, 100, 100, 1)\n",
        "x_validation = x_validation.reshape(-1, 100, 100, 1)\n",
        "\n",
        "print(x_train.shape, x_test.shape, x_validation.shape)"
      ],
      "id": "polar-banana"
    },
    {
      "cell_type": "markdown",
      "source": [
        "# **Neural Network to Hours**"
      ],
      "metadata": {
        "id": "_m46ffVN-Kt3"
      },
      "id": "_m46ffVN-Kt3"
    },
    {
      "cell_type": "code",
      "source": [
        "#Sequential é aconselhado apenas para modelos em simples com uma saída e uma entrada\n",
        "\n",
        "model = tf.keras.models.Sequential([\n",
        "\n",
        "    tf.keras.layers.Conv2D(64, (3,3), activation='relu', input_shape=(100, 100, 1)),\n",
        "    tf.keras.layers.MaxPooling2D(2, 2),\n",
        "    # The second convolution\n",
        "    tf.keras.layers.Conv2D(64, (3,3), activation='relu'),\n",
        "    tf.keras.layers.MaxPooling2D(2,2),\n",
        "    # The third convolution\n",
        "    tf.keras.layers.Conv2D(128, (3,3), activation='relu'),\n",
        "    tf.keras.layers.MaxPooling2D(2,2),\n",
        "    # The fourth convolution\n",
        "    tf.keras.layers.Conv2D(128, (3,3), activation='relu'),\n",
        "    tf.keras.layers.MaxPooling2D(2,2),\n",
        "    # Flatten the results to feed into a DNN\n",
        "    tf.keras.layers.Flatten(),\n",
        "    tf.keras.layers.Dropout(0.5),\n",
        "    # 512 neuron hidden layer\n",
        "    tf.keras.layers.Dense(512, activation='relu'),\n",
        "    tf.keras.layers.Dense(12, activation='softmax')\n",
        "])\n",
        "\n",
        "model.summary()"
      ],
      "metadata": {
        "id": "H5yjFt-WvO5h",
        "colab": {
          "base_uri": "https://localhost:8080/"
        },
        "outputId": "3ffb25de-46c7-4953-fd81-d05a57d156de"
      },
      "id": "H5yjFt-WvO5h",
      "execution_count": null,
      "outputs": [
        {
          "output_type": "stream",
          "name": "stdout",
          "text": [
            "Model: \"sequential\"\n",
            "_________________________________________________________________\n",
            " Layer (type)                Output Shape              Param #   \n",
            "=================================================================\n",
            " conv2d (Conv2D)             (None, 98, 98, 64)        640       \n",
            "                                                                 \n",
            " max_pooling2d (MaxPooling2D  (None, 49, 49, 64)       0         \n",
            " )                                                               \n",
            "                                                                 \n",
            " conv2d_1 (Conv2D)           (None, 47, 47, 64)        36928     \n",
            "                                                                 \n",
            " max_pooling2d_1 (MaxPooling  (None, 23, 23, 64)       0         \n",
            " 2D)                                                             \n",
            "                                                                 \n",
            " conv2d_2 (Conv2D)           (None, 21, 21, 128)       73856     \n",
            "                                                                 \n",
            " max_pooling2d_2 (MaxPooling  (None, 10, 10, 128)      0         \n",
            " 2D)                                                             \n",
            "                                                                 \n",
            " conv2d_3 (Conv2D)           (None, 8, 8, 128)         147584    \n",
            "                                                                 \n",
            " max_pooling2d_3 (MaxPooling  (None, 4, 4, 128)        0         \n",
            " 2D)                                                             \n",
            "                                                                 \n",
            " flatten (Flatten)           (None, 2048)              0         \n",
            "                                                                 \n",
            " dropout (Dropout)           (None, 2048)              0         \n",
            "                                                                 \n",
            " dense (Dense)               (None, 512)               1049088   \n",
            "                                                                 \n",
            " dense_1 (Dense)             (None, 12)                6156      \n",
            "                                                                 \n",
            "=================================================================\n",
            "Total params: 1,314,252\n",
            "Trainable params: 1,314,252\n",
            "Non-trainable params: 0\n",
            "_________________________________________________________________\n"
          ]
        }
      ]
    },
    {
      "cell_type": "code",
      "source": [
        "\n",
        "model.compile(optimizer = \"rmsprop\",\n",
        "              loss = 'sparse_categorical_crossentropy',\n",
        "              metrics=['accuracy'])"
      ],
      "metadata": {
        "id": "_-tqmyNqvO8u"
      },
      "id": "_-tqmyNqvO8u",
      "execution_count": null,
      "outputs": []
    },
    {
      "cell_type": "code",
      "execution_count": null,
      "metadata": {
        "id": "resistant-cigarette"
      },
      "outputs": [],
      "source": [
        "model.fit(x_train, y1_train, epochs=10)"
      ],
      "id": "resistant-cigarette"
    },
    {
      "cell_type": "code",
      "execution_count": null,
      "metadata": {
        "id": "comparative-alpha"
      },
      "outputs": [],
      "source": [
        ""
      ],
      "id": "comparative-alpha"
    },
    {
      "cell_type": "code",
      "execution_count": null,
      "metadata": {
        "id": "serious-official"
      },
      "outputs": [],
      "source": [
        "def prediction(imgs_data, img_number): \n",
        "\n",
        "  predict = model.predict(imgs_data)\n",
        "  predict = np.argmax(predict[img_number])\n",
        "  \n",
        "  img = imgs_data[img_number][:,:,0]\n",
        "  img = plt.imshow(img)\n",
        "                   \n",
        "  return predict, img\n",
        "   "
      ],
      "id": "serious-official"
    },
    {
      "cell_type": "code",
      "source": [
        "prediction(x_test, 0)"
      ],
      "metadata": {
        "colab": {
          "base_uri": "https://localhost:8080/",
          "height": 285
        },
        "id": "agecgz33FAtM",
        "outputId": "74ae705b-d8af-4a1a-f133-04d569a4139b"
      },
      "id": "agecgz33FAtM",
      "execution_count": null,
      "outputs": [
        {
          "output_type": "execute_result",
          "data": {
            "text/plain": [
              "(6, <matplotlib.image.AxesImage at 0x7fc6e09fb790>)"
            ]
          },
          "metadata": {},
          "execution_count": 12
        },
        {
          "output_type": "display_data",
          "data": {
            "image/png": "[encoded data removed]",
            "text/plain": [
              "<Figure size 432x288 with 1 Axes>"
            ]
          },
          "metadata": {
            "needs_background": "light"
          }
        }
      ]
    },
    {
      "cell_type": "code",
      "source": [
        "\n"
      ],
      "metadata": {
        "id": "25iGSUps2sxX"
      },
      "id": "25iGSUps2sxX",
      "execution_count": null,
      "outputs": []
    },
    {
      "cell_type": "markdown",
      "source": [
        "# **Neural Network to prediction time**"
      ],
      "metadata": {
        "id": "89JTjqmu2vBY"
      },
      "id": "89JTjqmu2vBY"
    },
    {
      "cell_type": "code",
      "source": [
        "    inp = Input(shape=(100, 100, 1))\n",
        "\n",
        "    x = Conv2D(64, (3,3), activation='relu')(inp)\n",
        "    x = MaxPooling2D(pool_size=(2, 2))(x)\n",
        "\n",
        "    x = Conv2D(64, (3,3), activation='relu')(inp)\n",
        "    x = MaxPooling2D(pool_size=(2, 2))(x)\n",
        "\n",
        "    x = Conv2D(128, (3,3), activation='relu')(inp)\n",
        "    x = MaxPooling2D(pool_size=(2, 2))(x)\n",
        "\n",
        "    x = Conv2D(128, (3,3), activation='relu')(inp)\n",
        "    x = MaxPooling2D(pool_size=(2, 2))(x)\n",
        "\n",
        "    x = Flatten()(x)\n",
        "    x = tf.keras.layers.Dropout(0.5)(x)\n",
        "\n",
        "    hour = Dense(512, activation='relu')(x)\n",
        "    hour = Dense(12, activation='softmax', name='hour')(hour)\n",
        "\n",
        "    minute = Dense(512, activation='relu')(x)\n",
        "    minute = Dense(128, activation='relu')(minute)\n",
        "    minute = Dense(60, activation='softmax', name='minute')(minute)\n",
        "\n",
        "    model = Model(inputs=inp, outputs=[hour, minute])\n",
        "\n",
        "\n",
        "    model.summary()\n",
        "    "
      ],
      "metadata": {
        "colab": {
          "base_uri": "https://localhost:8080/"
        },
        "id": "4s03fKwf3Ep2",
        "outputId": "347c9722-d569-4a01-8f41-985cf1bbf0d3"
      },
      "id": "4s03fKwf3Ep2",
      "execution_count": 6,
      "outputs": [
        {
          "output_type": "stream",
          "name": "stdout",
          "text": [
            "Model: \"model\"\n",
            "__________________________________________________________________________________________________\n",
            " Layer (type)                   Output Shape         Param #     Connected to                     \n",
            "==================================================================================================\n",
            " input_1 (InputLayer)           [(None, 100, 100, 1  0           []                               \n",
            "                                )]                                                                \n",
            "                                                                                                  \n",
            " conv2d_3 (Conv2D)              (None, 98, 98, 128)  1280        ['input_1[0][0]']                \n",
            "                                                                                                  \n",
            " max_pooling2d_3 (MaxPooling2D)  (None, 49, 49, 128)  0          ['conv2d_3[0][0]']               \n",
            "                                                                                                  \n",
            " flatten (Flatten)              (None, 307328)       0           ['max_pooling2d_3[0][0]']        \n",
            "                                                                                                  \n",
            " dropout (Dropout)              (None, 307328)       0           ['flatten[0][0]']                \n",
            "                                                                                                  \n",
            " dense_1 (Dense)                (None, 512)          157352448   ['dropout[0][0]']                \n",
            "                                                                                                  \n",
            " dense (Dense)                  (None, 512)          157352448   ['dropout[0][0]']                \n",
            "                                                                                                  \n",
            " dense_2 (Dense)                (None, 128)          65664       ['dense_1[0][0]']                \n",
            "                                                                                                  \n",
            " hour (Dense)                   (None, 12)           6156        ['dense[0][0]']                  \n",
            "                                                                                                  \n",
            " minute (Dense)                 (None, 60)           7740        ['dense_2[0][0]']                \n",
            "                                                                                                  \n",
            "==================================================================================================\n",
            "Total params: 314,785,736\n",
            "Trainable params: 314,785,736\n",
            "Non-trainable params: 0\n",
            "__________________________________________________________________________________________________\n"
          ]
        }
      ]
    },
    {
      "cell_type": "code",
      "source": [
        "model.compile(optimizer = \"rmsprop\",\n",
        "              loss = 'sparse_categorical_crossentropy',\n",
        "              metrics=['accuracy'])"
      ],
      "metadata": {
        "id": "mjdiPhtK30yM"
      },
      "id": "mjdiPhtK30yM",
      "execution_count": 7,
      "outputs": []
    },
    {
      "cell_type": "code",
      "source": [
        "model.fit(x_train, [y1_train, y2_train], epochs=25)"
      ],
      "metadata": {
        "id": "r3bv0C5z5p7G"
      },
      "id": "r3bv0C5z5p7G",
      "execution_count": null,
      "outputs": []
    },
    {
      "cell_type": "code",
      "source": [
        "#result = model.predict(x_test)          predict a data set\n",
        "#result[hour or minute][img_number]      hour = 0    /    minute = 1 "
      ],
      "metadata": {
        "id": "8iMDOqR3J--7"
      },
      "id": "8iMDOqR3J--7",
      "execution_count": 11,
      "outputs": []
    },
    {
      "cell_type": "code",
      "source": [
        "#Save and load model\n",
        "\n",
        "#model.save(\"/content/drive/MyDrive/Colab Notebooks/Analog_clock/model.h5\")\n",
        "#model = load_model('/content/drive/MyDrive/Colab Notebooks/Analog_clock/model.h5')"
      ],
      "metadata": {
        "id": "REPRMQhqT8-Z"
      },
      "id": "REPRMQhqT8-Z",
      "execution_count": null,
      "outputs": []
    },
    {
      "cell_type": "markdown",
      "source": [
        "## Save Model"
      ],
      "metadata": {
        "id": "KUG2BbIICxOH"
      },
      "id": "KUG2BbIICxOH"
    },
    {
      "cell_type": "code",
      "source": [
        "model.save(\"/content/drive/MyDrive/Colab Notebooks/Analog_clock/model.h5\")"
      ],
      "metadata": {
        "id": "tAQ1urjx3fy9"
      },
      "id": "tAQ1urjx3fy9",
      "execution_count": null,
      "outputs": []
    },
    {
      "cell_type": "markdown",
      "source": [
        "## Load Model and Test it"
      ],
      "metadata": {
        "id": "mj9gza0OC7Ci"
      },
      "id": "mj9gza0OC7Ci"
    },
    {
      "cell_type": "code",
      "source": [
        "model = tf.keras.models.load_model(\"/content/drive/MyDrive/Colab Notebooks/Analog_clock/model.h5\")"
      ],
      "metadata": {
        "id": "-D1tFiQHDDlu"
      },
      "id": "-D1tFiQHDDlu",
      "execution_count": 6,
      "outputs": []
    },
    {
      "cell_type": "code",
      "source": [
        "def prediction(imgs_data): \n",
        "\n",
        "  predict = model.predict(imgs_data)\n",
        "  \n",
        "  return predict\n",
        "\n",
        "\n",
        "def result(data_predict, imgs_data, img_number):\n",
        "\n",
        "  hour = np.argmax(data_predict[0][img_number])\n",
        "  hour = 'hour: ' + str(hour)\n",
        "  minute = np.argmax(data_predict[1][img_number])\n",
        "  minute = 'mintue: ' + str(minute)\n",
        "  \n",
        "  img = imgs_data[img_number][:,:,0]\n",
        "  img = plt.imshow(img)\n",
        "                   \n",
        "  return hour, minute, img"
      ],
      "metadata": {
        "id": "Q1G9wfto5407"
      },
      "id": "Q1G9wfto5407",
      "execution_count": 13,
      "outputs": []
    },
    {
      "cell_type": "code",
      "source": [
        "predict = prediction(x_train)\n"
      ],
      "metadata": {
        "id": "Y1gSfbuoUQZ6"
      },
      "id": "Y1gSfbuoUQZ6",
      "execution_count": 8,
      "outputs": []
    },
    {
      "cell_type": "code",
      "source": [
        "result(predict, x_train, 1)"
      ],
      "metadata": {
        "colab": {
          "base_uri": "https://localhost:8080/",
          "height": 286
        },
        "id": "bMFv0rTTE6yx",
        "outputId": "725db063-1c6f-42b4-85ce-37b5d190aa60"
      },
      "id": "bMFv0rTTE6yx",
      "execution_count": 14,
      "outputs": [
        {
          "output_type": "execute_result",
          "data": {
            "text/plain": [
              "('hour: 9', 'mintue: 44', <matplotlib.image.AxesImage at 0x7fdfadcea3d0>)"
            ]
          },
          "metadata": {},
          "execution_count": 14
        },
        {
          "output_type": "display_data",
          "data": {
            "image/png": "[encoded data removed]",
            "text/plain": [
              "<Figure size 432x288 with 1 Axes>"
            ]
          },
          "metadata": {
            "needs_background": "light"
          }
        }
      ]
    },
    {
      "cell_type": "code",
      "source": [
        ""
      ],
      "metadata": {
        "id": "aYon-5YTGg4S"
      },
      "id": "aYon-5YTGg4S",
      "execution_count": 23,
      "outputs": []
    },
    {
      "cell_type": "code",
      "source": [
        ""
      ],
      "metadata": {
        "id": "37cUuVXaG3r9"
      },
      "id": "37cUuVXaG3r9",
      "execution_count": null,
      "outputs": []
    }
  ],
  "metadata": {
    "accelerator": "GPU",
    "colab": {
      "collapsed_sections": [
        "KUG2BbIICxOH"
      ],
      "name": "Clock_model.ipynb",
      "provenance": []
    },
    "kernelspec": {
      "display_name": "Python 3",
      "language": "python",
      "name": "python3"
    },
    "language_info": {
      "codemirror_mode": {
        "name": "ipython",
        "version": 3
      },
      "file_extension": ".py",
      "mimetype": "text/x-python",
      "name": "python",
      "nbconvert_exporter": "python",
      "pygments_lexer": "ipython3",
      "version": "3.8.8"
    }
  },
  "nbformat": 4,
  "nbformat_minor": 5
}